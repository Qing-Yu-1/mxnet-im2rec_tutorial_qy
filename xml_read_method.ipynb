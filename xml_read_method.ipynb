{
 "cells": [
  {
   "cell_type": "code",
   "execution_count": 1,
   "metadata": {},
   "outputs": [],
   "source": [
    "import  xml.dom.minidom"
   ]
  },
  {
   "cell_type": "markdown",
   "metadata": {},
   "source": [
    "<?xml version=\"1.0\" encoding=\"utf-8\"?>\n",
    "<catalog>\n",
    "       <maxid>4</maxid>\n",
    "       <login username=\"pytest\" passwd='123456'>\n",
    "            　　<caption>Python</caption>\n",
    "             <item id=\"4\">\n",
    "                    <caption>测试</caption>\n",
    "            </item>\n",
    "    </login>\n",
    "    <item id=\"2\">\n",
    "            <caption>Zope</caption>\n",
    "    </item>\n",
    "</catalog>"
   ]
  },
  {
   "cell_type": "code",
   "execution_count": 2,
   "metadata": {},
   "outputs": [],
   "source": [
    "xml.dom.minidom??"
   ]
  },
  {
   "cell_type": "code",
   "execution_count": 3,
   "metadata": {},
   "outputs": [],
   "source": [
    "#打开xml文档\n",
    "dom = xml.dom.minidom.parse('abc.xml')"
   ]
  },
  {
   "cell_type": "code",
   "execution_count": 4,
   "metadata": {},
   "outputs": [
    {
     "name": "stdout",
     "output_type": "stream",
     "text": [
      "catalog\n",
      "None\n",
      "1\n",
      "1\n"
     ]
    }
   ],
   "source": [
    "#得到文档元素对象\n",
    "root = dom.documentElement\n",
    "print (root.nodeName)\n",
    "print (root.nodeValue)\n",
    "print (root.nodeType)\n",
    "print (root.ELEMENT_NODE)"
   ]
  },
  {
   "cell_type": "code",
   "execution_count": 5,
   "metadata": {},
   "outputs": [
    {
     "name": "stdout",
     "output_type": "stream",
     "text": [
      "maxid\n"
     ]
    }
   ],
   "source": [
    "bb = root.getElementsByTagName('maxid')\n",
    "b= bb[0]\n",
    "print (b.nodeName)"
   ]
  },
  {
   "cell_type": "code",
   "execution_count": 6,
   "metadata": {},
   "outputs": [
    {
     "name": "stdout",
     "output_type": "stream",
     "text": [
      "login\n"
     ]
    }
   ],
   "source": [
    "bb = root.getElementsByTagName('login')\n",
    "b= bb[0]\n",
    "print (b.nodeName)"
   ]
  },
  {
   "cell_type": "code",
   "execution_count": 7,
   "metadata": {},
   "outputs": [
    {
     "name": "stdout",
     "output_type": "stream",
     "text": [
      "[<DOM Element: login at 0x7f0c441bdaf8>]\n"
     ]
    }
   ],
   "source": [
    "print(bb)"
   ]
  },
  {
   "cell_type": "code",
   "execution_count": 8,
   "metadata": {},
   "outputs": [
    {
     "name": "stdout",
     "output_type": "stream",
     "text": [
      "caption\n",
      "item\n"
     ]
    }
   ],
   "source": [
    "bb = root.getElementsByTagName('caption')\n",
    "b= bb[2]\n",
    "print (b.nodeName)\n",
    "\n",
    "bb = root.getElementsByTagName('item')\n",
    "b= bb[1]\n",
    "print (b.nodeName)"
   ]
  },
  {
   "cell_type": "markdown",
   "metadata": {},
   "source": [
    "<login>和<item>标签是有属性的，如何获得他们的属性？\n",
    "getAttribute方法可以获得元素的属性所对应的值。"
   ]
  },
  {
   "cell_type": "code",
   "execution_count": 9,
   "metadata": {},
   "outputs": [
    {
     "name": "stdout",
     "output_type": "stream",
     "text": [
      "pytest\n",
      "123456\n"
     ]
    }
   ],
   "source": [
    "itemlist = root.getElementsByTagName('login')\n",
    "item = itemlist[0]\n",
    "un=item.getAttribute(\"username\")#获取属性\n",
    "print (un)\n",
    "pd=item.getAttribute(\"passwd\")\n",
    "print (pd)"
   ]
  },
  {
   "cell_type": "code",
   "execution_count": 10,
   "metadata": {},
   "outputs": [
    {
     "name": "stdout",
     "output_type": "stream",
     "text": [
      "4\n"
     ]
    }
   ],
   "source": [
    "ii = root.getElementsByTagName('item')\n",
    "i1 = ii[0]\n",
    "i=i1.getAttribute(\"id\")\n",
    "print (i)"
   ]
  },
  {
   "cell_type": "markdown",
   "metadata": {},
   "source": [
    "<caption>标签对之间是有数据的，如何获得这些数据？"
   ]
  },
  {
   "cell_type": "code",
   "execution_count": 11,
   "metadata": {},
   "outputs": [
    {
     "name": "stdout",
     "output_type": "stream",
     "text": [
      "1 Python 2\n"
     ]
    }
   ],
   "source": [
    "#方法一\n",
    "cc=dom.getElementsByTagName('caption')\n",
    "c1=cc[0]\n",
    "print (c1.firstChild.data)#firstChild 属性返回被选节点的第一个子节点，.data表示获取该节点人数据。"
   ]
  },
  {
   "cell_type": "code",
   "execution_count": 12,
   "metadata": {},
   "outputs": [
    {
     "name": "stdout",
     "output_type": "stream",
     "text": [
      "4\n"
     ]
    }
   ],
   "source": [
    "cc=dom.getElementsByTagName('maxid')\n",
    "c1=cc[0]\n",
    "print (c1.firstChild.data)"
   ]
  },
  {
   "cell_type": "markdown",
   "metadata": {},
   "source": [
    "方法二有点复杂，所引用模块也与前面的不一样，findall用于指定在哪一级标签下开始遍历。\n",
    "\n",
    "\n",
    "getchildren方法按照文档顺序返回所有子标签。并输出标签名（child.tag）和标签的数据（child.text）\n",
    "\n",
    "\n",
    "其实，方法二的作用不在于此，它核心功能是可以遍历某一级标签下的所有子标签。"
   ]
  },
  {
   "cell_type": "code",
   "execution_count": 17,
   "metadata": {},
   "outputs": [
    {
     "name": "stdout",
     "output_type": "stream",
     "text": [
      "<xml.etree.ElementTree.ElementTree object at 0x7f0c440cac50>\n",
      "<Element 'catalog' at 0x7f0c440ccea8>\n",
      "----分割线----\n",
      "caption : 测试\n",
      "caption : Zope\n",
      "test : test\n"
     ]
    }
   ],
   "source": [
    "#coding=utf-8\n",
    "from xml.etree import ElementTree as ET\n",
    "per=ET.parse('abc.xml')\n",
    "p=per.findall('./login/item')#\n",
    "print(per)\n",
    "print(per.getroot())\n",
    "print('----分割线----')\n",
    "for oneper in p:\n",
    "    for child in oneper.getchildren():#获得每个元素下面的子元素\n",
    "        print (child.tag,':',child.text)\n",
    "\n",
    "\n",
    "p=per.findall('./item')\n",
    "\n",
    "for oneper in p:\n",
    "    for child in oneper.getchildren():\n",
    "        print (child.tag,':',child.text)"
   ]
  },
  {
   "cell_type": "markdown",
   "metadata": {},
   "source": [
    "另一张方式："
   ]
  },
  {
   "cell_type": "code",
   "execution_count": 1,
   "metadata": {},
   "outputs": [],
   "source": [
    "import xml.etree.ElementTree as ET"
   ]
  },
  {
   "cell_type": "code",
   "execution_count": 22,
   "metadata": {},
   "outputs": [],
   "source": [
    "tree = ET.ElementTree(file='abc.xml') #获取 XML 文档对象 ElementTree"
   ]
  },
  {
   "cell_type": "code",
   "execution_count": 36,
   "metadata": {},
   "outputs": [
    {
     "data": {
      "text/plain": [
       "<Element 'catalog' at 0x7f0c440d3818>"
      ]
     },
     "execution_count": 36,
     "metadata": {},
     "output_type": "execute_result"
    }
   ],
   "source": [
    "tree.getroot()#获取 XML 文档对象的根结点 Element"
   ]
  },
  {
   "cell_type": "markdown",
   "metadata": {},
   "source": [
    "正如之前所讲的，根元素（root）是一个Element对象。我们看看根元素都有哪些属性："
   ]
  },
  {
   "cell_type": "code",
   "execution_count": 37,
   "metadata": {},
   "outputs": [
    {
     "name": "stdout",
     "output_type": "stream",
     "text": [
      "catalog\n",
      "{}\n",
      "-----我是分割线1---------\n",
      "maxid {}\n",
      "-----我是分割线2---------\n",
      "login {'username': 'pytest', 'passwd': '123456'}\n",
      "caption {} 1 Python 2\n",
      "item {'id': '4'} \n",
      "            \n",
      "-----我是分割线2---------\n",
      "item {'id': '2'}\n",
      "caption {} Zope\n",
      "test {} test\n",
      "-----我是分割线2---------\n"
     ]
    }
   ],
   "source": [
    "root = tree.getroot()\n",
    "print( root.tag)#获得根元素的名称\n",
    "print(root.attrib)#没有属性\n",
    "print(\"-----我是分割线1---------\")\n",
    "for child_of_root in root:\n",
    "    print (child_of_root.tag, child_of_root.attrib)\n",
    "    for child in child_of_root:\n",
    "        print (child.tag, child.attrib,child.text)\n",
    "    print(\"-----我是分割线2---------\")"
   ]
  },
  {
   "cell_type": "code",
   "execution_count": 66,
   "metadata": {},
   "outputs": [
    {
     "data": {
      "text/plain": [
       "'item'"
      ]
     },
     "execution_count": 66,
     "metadata": {},
     "output_type": "execute_result"
    }
   ],
   "source": [
    " root[2].tag"
   ]
  },
  {
   "cell_type": "code",
   "execution_count": 53,
   "metadata": {},
   "outputs": [
    {
     "data": {
      "text/plain": [
       "'4'"
      ]
     },
     "execution_count": 53,
     "metadata": {},
     "output_type": "execute_result"
    }
   ],
   "source": [
    "root[0].text #有的元素中没有数据，有的是节点，节点下面才是数据"
   ]
  },
  {
   "cell_type": "markdown",
   "metadata": {},
   "source": [
    "# 指定位置读取"
   ]
  },
  {
   "cell_type": "code",
   "execution_count": 43,
   "metadata": {},
   "outputs": [
    {
     "name": "stdout",
     "output_type": "stream",
     "text": [
      "<Element 'login' at 0x7f0c440d38b8>\n",
      "<Element 'caption' at 0x7f0c440d3908>\n",
      "caption {} 1 Python 2\n"
     ]
    }
   ],
   "source": [
    "root_2=root[1]\n",
    "print(root_2)\n",
    "print(root_2[0])\n",
    "root_3=root_2[0]\n",
    "print(root_3.tag,root_3.attrib,root_3.text)"
   ]
  },
  {
   "cell_type": "code",
   "execution_count": 62,
   "metadata": {},
   "outputs": [
    {
     "data": {
      "text/plain": [
       "'item'"
      ]
     },
     "execution_count": 62,
     "metadata": {},
     "output_type": "execute_result"
    }
   ],
   "source": [
    "root[1][1].tag"
   ]
  },
  {
   "cell_type": "markdown",
   "metadata": {},
   "source": [
    "# 指定位置修改"
   ]
  },
  {
   "cell_type": "code",
   "execution_count": 51,
   "metadata": {},
   "outputs": [
    {
     "name": "stdout",
     "output_type": "stream",
     "text": [
      "1 Python 3\n"
     ]
    }
   ],
   "source": [
    "root_3.text='1 Python 3'\n",
    "print(root_3.text)"
   ]
  },
  {
   "cell_type": "code",
   "execution_count": 58,
   "metadata": {},
   "outputs": [
    {
     "name": "stdout",
     "output_type": "stream",
     "text": [
      "12\n"
     ]
    }
   ],
   "source": [
    "root_3.text=str(12)#输入字符串\n",
    "print(root_3.text)"
   ]
  },
  {
   "cell_type": "code",
   "execution_count": 54,
   "metadata": {},
   "outputs": [
    {
     "name": "stdout",
     "output_type": "stream",
     "text": [
      "12\n"
     ]
    }
   ],
   "source": [
    "root_3.text=12#输入数字\n",
    "print(root_3.text)"
   ]
  },
  {
   "cell_type": "code",
   "execution_count": 59,
   "metadata": {},
   "outputs": [
    {
     "data": {
      "text/plain": [
       "'12'"
      ]
     },
     "execution_count": 59,
     "metadata": {},
     "output_type": "execute_result"
    }
   ],
   "source": [
    "root_3.text"
   ]
  },
  {
   "cell_type": "code",
   "execution_count": 83,
   "metadata": {},
   "outputs": [
    {
     "name": "stdout",
     "output_type": "stream",
     "text": [
      "catalog {} \n",
      "    \n",
      "maxid {} 4\n",
      "login {'username': 'pytest', 'passwd': '123456'} \n",
      "        \n",
      "caption {} 1 Python 2\n",
      "item {'id': '4'} \n",
      "            \n",
      "caption {} 测试\n",
      "item {'id': '2'} \n",
      "        \n",
      "caption {} Zope\n",
      "test {} test\n"
     ]
    }
   ],
   "source": [
    "#获取所有的元素\n",
    "for elem in tree.iter():\n",
    "     print (elem.tag, elem.attrib,elem.text)\n",
    "    "
   ]
  },
  {
   "cell_type": "code",
   "execution_count": 89,
   "metadata": {},
   "outputs": [
    {
     "name": "stdout",
     "output_type": "stream",
     "text": [
      "item {'id': '4'} \n",
      "            \n"
     ]
    }
   ],
   "source": [
    "#指定位置查找具有某名称的元素\n",
    "for elem in tree.iterfind('./login/item'):\n",
    "    print (elem.tag, elem.attrib,elem.text)"
   ]
  },
  {
   "cell_type": "code",
   "execution_count": 92,
   "metadata": {},
   "outputs": [
    {
     "name": "stdout",
     "output_type": "stream",
     "text": [
      "login {'username': 'pytest', 'passwd': '123456'} \n",
      "        \n"
     ]
    }
   ],
   "source": [
    "#指定位置查找具有某属性的元素\n",
    "for elem in tree.iterfind('login[@username=\"pytest\"]'):\n",
    "    print (elem.tag, elem.attrib,elem.text)"
   ]
  },
  {
   "cell_type": "markdown",
   "metadata": {},
   "source": [
    "Element类提供了`Element.iter()`方法来查找指定的结点。`Element.iter()`会递归查找所有的子结点，以便查找到所有符合条件的结点。"
   ]
  },
  {
   "cell_type": "code",
   "execution_count": 106,
   "metadata": {},
   "outputs": [
    {
     "name": "stdout",
     "output_type": "stream",
     "text": [
      "item {'id': '4'} \n",
      "            \n",
      "item {'id': '2'} \n",
      "        \n"
     ]
    }
   ],
   "source": [
    "## 递归查找所有的 某个 子结点\n",
    "for neighbor in root.iter('item'):\n",
    "    print (neighbor.tag, neighbor.attrib,neighbor.text)"
   ]
  },
  {
   "cell_type": "code",
   "execution_count": 31,
   "metadata": {},
   "outputs": [
    {
     "name": "stdout",
     "output_type": "stream",
     "text": [
      "caption 1 Python 2\n"
     ]
    }
   ],
   "source": [
    "#指定位置读取\n",
    "p_1=tree.findall('./login/caption')\n",
    "for p_2 in p_1:\n",
    "    print(p_2.tag,p_2.text)"
   ]
  },
  {
   "cell_type": "code",
   "execution_count": 34,
   "metadata": {},
   "outputs": [
    {
     "name": "stdout",
     "output_type": "stream",
     "text": [
      "caption {} 1 Python 2\n"
     ]
    }
   ],
   "source": [
    "for p_3 in tree.iterfind('./login/caption'):\n",
    "    print (p_3.tag, p_3.attrib,p_3.text)"
   ]
  },
  {
   "cell_type": "code",
   "execution_count": null,
   "metadata": {},
   "outputs": [],
   "source": []
  },
  {
   "cell_type": "markdown",
   "metadata": {},
   "source": [
    "# 构造 XML\n",
    "\n",
    "如果我们需要构造 XML 文档，可以使用 ET 模块的 `Element`类以及`SubElement()`函数。\n",
    "\n",
    "可以使用Element类来生成一个Element对象作为根结点，然后使用ET.SubElement()函数生成子结点。"
   ]
  },
  {
   "cell_type": "code",
   "execution_count": 95,
   "metadata": {},
   "outputs": [
    {
     "name": "stdout",
     "output_type": "stream",
     "text": [
      "b'<a><b>leehao.me</b><c greeting=\"hello\">test</c><d>www.leehao.me</d></a>'\n"
     ]
    }
   ],
   "source": [
    "a = ET.Element('a')\n",
    "b = ET.SubElement(a, 'b')\n",
    "b.text = 'leehao.me'\n",
    "c = ET.SubElement(a, 'c')\n",
    "c.attrib['greeting'] = 'hello'\n",
    "c.text='test'\n",
    "d = ET.SubElement(a, 'd')\n",
    "d.text = 'www.leehao.me'\n",
    "xml_str = ET.tostring(a, encoding='UTF-8')\n",
    "print (xml_str)"
   ]
  },
  {
   "cell_type": "markdown",
   "metadata": {},
   "source": [
    "如果需要输出到文件中，可以继续使用`ElementTree.write()`方法来处理："
   ]
  },
  {
   "cell_type": "code",
   "execution_count": 96,
   "metadata": {},
   "outputs": [],
   "source": [
    "tree = ET.ElementTree(a)\n",
    "tree.write('a.xml', encoding='UTF-8')"
   ]
  },
  {
   "cell_type": "markdown",
   "metadata": {},
   "source": [
    "# 另一种通过[ ]读取节点元素的方法"
   ]
  },
  {
   "cell_type": "code",
   "execution_count": 2,
   "metadata": {},
   "outputs": [],
   "source": [
    "tree2 = ET.ElementTree(file='label.xml') #获取 XML 文档对象 ElementTree"
   ]
  },
  {
   "cell_type": "code",
   "execution_count": 3,
   "metadata": {},
   "outputs": [],
   "source": [
    "p_label=tree2.getroot()"
   ]
  },
  {
   "cell_type": "code",
   "execution_count": 4,
   "metadata": {},
   "outputs": [
    {
     "name": "stdout",
     "output_type": "stream",
     "text": [
      "<Element 'annotation' at 0x7ffa045f13b8>\n"
     ]
    }
   ],
   "source": [
    "print(p_label)"
   ]
  },
  {
   "cell_type": "code",
   "execution_count": 5,
   "metadata": {},
   "outputs": [
    {
     "data": {
      "text/plain": [
       "<Element 'object' at 0x7ffa045f1778>"
      ]
     },
     "execution_count": 5,
     "metadata": {},
     "output_type": "execute_result"
    }
   ],
   "source": [
    "p_label[5]"
   ]
  },
  {
   "cell_type": "code",
   "execution_count": 6,
   "metadata": {},
   "outputs": [
    {
     "data": {
      "text/plain": [
       "<Element 'bndbox' at 0x7ffa045f1908>"
      ]
     },
     "execution_count": 6,
     "metadata": {},
     "output_type": "execute_result"
    }
   ],
   "source": [
    "p_label[5][4]"
   ]
  },
  {
   "cell_type": "code",
   "execution_count": 68,
   "metadata": {},
   "outputs": [
    {
     "data": {
      "text/plain": [
       "'148'"
      ]
     },
     "execution_count": 68,
     "metadata": {},
     "output_type": "execute_result"
    }
   ],
   "source": [
    "p_label[5][4][0].text"
   ]
  },
  {
   "cell_type": "code",
   "execution_count": 7,
   "metadata": {},
   "outputs": [
    {
     "name": "stdout",
     "output_type": "stream",
     "text": [
      "148\n",
      "1\n",
      "200\n",
      "45\n"
     ]
    }
   ],
   "source": [
    "for i in range(4):\n",
    "    print(p_label[5][4][i].text)"
   ]
  },
  {
   "cell_type": "code",
   "execution_count": 75,
   "metadata": {},
   "outputs": [
    {
     "data": {
      "text/plain": [
       "<Element 'name' at 0x7f0c44084ef8>"
      ]
     },
     "execution_count": 75,
     "metadata": {},
     "output_type": "execute_result"
    }
   ],
   "source": [
    "p_label[5][0]"
   ]
  },
  {
   "cell_type": "code",
   "execution_count": 76,
   "metadata": {},
   "outputs": [
    {
     "data": {
      "text/plain": [
       "'n02802426'"
      ]
     },
     "execution_count": 76,
     "metadata": {},
     "output_type": "execute_result"
    }
   ],
   "source": [
    "p_label[5][0].text"
   ]
  },
  {
   "cell_type": "code",
   "execution_count": 9,
   "metadata": {},
   "outputs": [
    {
     "name": "stdout",
     "output_type": "stream",
     "text": [
      "333\n",
      "500\n"
     ]
    }
   ],
   "source": [
    "print(p_label[3][0].text)\n",
    "print(p_label[3][1].text)\n"
   ]
  },
  {
   "cell_type": "code",
   "execution_count": 16,
   "metadata": {},
   "outputs": [
    {
     "name": "stdout",
     "output_type": "stream",
     "text": [
      "333.0\n",
      "333.0\n"
     ]
    }
   ],
   "source": [
    "str1=(float)(p_label[3][0].text)\n",
    "print(str1)\n",
    "print(str(str1))"
   ]
  },
  {
   "cell_type": "markdown",
   "metadata": {},
   "source": [
    "# txt 读操作"
   ]
  },
  {
   "cell_type": "code",
   "execution_count": 1,
   "metadata": {},
   "outputs": [],
   "source": [
    "import sys"
   ]
  },
  {
   "cell_type": "code",
   "execution_count": 2,
   "metadata": {},
   "outputs": [],
   "source": [
    "fileName='./label_id.txt'"
   ]
  },
  {
   "cell_type": "code",
   "execution_count": 94,
   "metadata": {},
   "outputs": [],
   "source": [
    "fp=open(fileName,'r')"
   ]
  },
  {
   "cell_type": "code",
   "execution_count": 83,
   "metadata": {},
   "outputs": [],
   "source": [
    "#print (fp.next())\n",
    "line=fp.readline()"
   ]
  },
  {
   "cell_type": "code",
   "execution_count": 84,
   "metadata": {},
   "outputs": [
    {
     "name": "stdout",
     "output_type": "stream",
     "text": [
      "n02802426_5666\n"
     ]
    }
   ],
   "source": [
    "print(line,end=\"\")"
   ]
  },
  {
   "cell_type": "code",
   "execution_count": 87,
   "metadata": {},
   "outputs": [
    {
     "data": {
      "text/plain": [
       "'n02802426_12917\\n'"
      ]
     },
     "execution_count": 87,
     "metadata": {},
     "output_type": "execute_result"
    }
   ],
   "source": [
    "line"
   ]
  },
  {
   "cell_type": "code",
   "execution_count": 88,
   "metadata": {},
   "outputs": [
    {
     "data": {
      "text/plain": [
       "'n02802426_12917\\n'"
      ]
     },
     "execution_count": 88,
     "metadata": {},
     "output_type": "execute_result"
    }
   ],
   "source": [
    "line"
   ]
  },
  {
   "cell_type": "code",
   "execution_count": 100,
   "metadata": {},
   "outputs": [],
   "source": [
    "for i in range(10):\n",
    "    print(line,end=\"\")\n",
    "    line=fp.readline()"
   ]
  },
  {
   "cell_type": "markdown",
   "metadata": {},
   "source": [
    "## 遍历每一行　方式１\n",
    "每执行一次fp.readline()　指向下一行\n",
    "\n",
    "最后一行不要有空格\n",
    "\n",
    "每每执行一次fp.readline()　应该接上对这行数据的操作\n",
    "\n",
    "执行line=fp.readline(),如果没有下一行了，那么返回给line 应该是假，就跳出while循环\n"
   ]
  },
  {
   "cell_type": "code",
   "execution_count": 110,
   "metadata": {},
   "outputs": [
    {
     "name": "stdout",
     "output_type": "stream",
     "text": [
      "699\n"
     ]
    }
   ],
   "source": [
    "fp=open(fileName,'r')\n",
    "line=fp.readline()\n",
    "i=0\n",
    "while line:\n",
    "    i=i+1\n",
    "    #print(i)\n",
    "    #print(line,end=\"\")\n",
    "    line=fp.readline()\n",
    "fp.close\n",
    "\n",
    "print(i)"
   ]
  },
  {
   "cell_type": "markdown",
   "metadata": {},
   "source": [
    "## 遍历每一行　方式2\n",
    "for 循环方式\n",
    "\n"
   ]
  },
  {
   "cell_type": "code",
   "execution_count": 113,
   "metadata": {},
   "outputs": [
    {
     "name": "stdout",
     "output_type": "stream",
     "text": [
      "699\n"
     ]
    }
   ],
   "source": [
    "fp=open(fileName,'r')\n",
    "lines=fp.readlines()\n",
    "i=0\n",
    "for line in lines:\n",
    "    i=i+1\n",
    "    #print(i)\n",
    "    #print(line,end=\"\")\n",
    "fp.close()\n",
    "print(i)"
   ]
  },
  {
   "cell_type": "markdown",
   "metadata": {},
   "source": [
    "## 遍历每一行　方式3\n",
    "for 循环方式"
   ]
  },
  {
   "cell_type": "code",
   "execution_count": 115,
   "metadata": {},
   "outputs": [
    {
     "name": "stdout",
     "output_type": "stream",
     "text": [
      "699\n"
     ]
    }
   ],
   "source": [
    "fp=open(fileName,'r')\n",
    "i=0\n",
    "for line in fp:\n",
    "    i=i+1\n",
    "fp.close()#fp.close\n",
    "print(i)\n",
    "    "
   ]
  },
  {
   "cell_type": "code",
   "execution_count": 121,
   "metadata": {},
   "outputs": [
    {
     "data": {
      "text/plain": [
       "2"
      ]
     },
     "execution_count": 121,
     "metadata": {},
     "output_type": "execute_result"
    }
   ],
   "source": [
    "fp1 = open('./test.txt','w')\n",
    "fp1.write('11')#但此时数据只写到了缓存中，并未保存到文件，而且从下面的输出可以看到，原先里面的配置被清空了"
   ]
  },
  {
   "cell_type": "code",
   "execution_count": 134,
   "metadata": {},
   "outputs": [],
   "source": [
    "#关闭这个文件即可将缓存中的数据写入到文件中\n",
    "fp1.close()"
   ]
  },
  {
   "cell_type": "markdown",
   "metadata": {},
   "source": [
    "，如果在写之前先读取一下文件，再进行写入，则写入的数据会添加到文件末尾而不会替换掉原先的文件。这是因为指针引起的，r+ 模式的指针默认是在文件的开头，如果直接写入，则会覆盖源文件，通过read() 读取文件后，指针会移到文件的末尾，再写入数据就不会有问题了"
   ]
  },
  {
   "cell_type": "code",
   "execution_count": 132,
   "metadata": {},
   "outputs": [],
   "source": [
    "fp1 = open('./test.txt','r+')\n",
    "fp1.read()\n",
    "fp1.write('\\n12')\n",
    "fp1.close()"
   ]
  },
  {
   "cell_type": "code",
   "execution_count": 133,
   "metadata": {},
   "outputs": [
    {
     "data": {
      "text/plain": [
       "'1112\\n12\\n12'"
      ]
     },
     "execution_count": 133,
     "metadata": {},
     "output_type": "execute_result"
    }
   ],
   "source": [
    "fp1 = open('./test.txt','r+')\n",
    "fp1.read()\n",
    "fp1.close()"
   ]
  },
  {
   "cell_type": "code",
   "execution_count": 141,
   "metadata": {},
   "outputs": [],
   "source": [
    "#使用ａ模式\n",
    "fp1 = open('./test.txt','a')\n",
    "fp1.write('\\n12')\n",
    "fp1.close()"
   ]
  },
  {
   "cell_type": "code",
   "execution_count": 143,
   "metadata": {},
   "outputs": [
    {
     "data": {
      "text/plain": [
       "'\\n122\\n12\\n12\\n12'"
      ]
     },
     "execution_count": 143,
     "metadata": {},
     "output_type": "execute_result"
    }
   ],
   "source": [
    "fp1 = open('./test.txt','r')\n",
    "fp1.read()"
   ]
  },
  {
   "cell_type": "code",
   "execution_count": null,
   "metadata": {},
   "outputs": [],
   "source": []
  }
 ],
 "metadata": {
  "kernelspec": {
   "display_name": "Python [conda env:mxnet]",
   "language": "python",
   "name": "conda-env-mxnet-py"
  },
  "language_info": {
   "codemirror_mode": {
    "name": "ipython",
    "version": 3
   },
   "file_extension": ".py",
   "mimetype": "text/x-python",
   "name": "python",
   "nbconvert_exporter": "python",
   "pygments_lexer": "ipython3",
   "version": "3.6.5"
  }
 },
 "nbformat": 4,
 "nbformat_minor": 2
}
