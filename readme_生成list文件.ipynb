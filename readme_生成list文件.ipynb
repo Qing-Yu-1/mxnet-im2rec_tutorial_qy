{
 "cells": [
  {
   "cell_type": "markdown",
   "metadata": {},
   "source": [
    "# 生成所需的ｌｉｓｔ文件　并将图片拷贝到新文件"
   ]
  },
  {
   "cell_type": "markdown",
   "metadata": {},
   "source": [
    "### 本文是为了将篮球数据集的数据格式转换为mxnet格式所需要的格式(rec格式)，需要转换原有的．xml格式的标签文件转换为需要的list文件．篮球数据集包含三部分：Annotations JPEGImages val.txt"
   ]
  },
  {
   "cell_type": "code",
   "execution_count": 1,
   "metadata": {},
   "outputs": [],
   "source": [
    "import sys\n",
    "import xml.etree.ElementTree as ET\n",
    "from mxnet import image  \n",
    "from skimage import io  \n",
    "import os \n",
    "import shutil"
   ]
  },
  {
   "cell_type": "code",
   "execution_count": 2,
   "metadata": {},
   "outputs": [
    {
     "name": "stdout",
     "output_type": "stream",
     "text": [
      "174\n"
     ]
    }
   ],
   "source": [
    "#fileName='./label_id.txt'\n",
    "fileName='./val.txt'#存放者训练数据集的图片的标号\n",
    "fileName2='./Annotations/'#各个图片的标签.xml 存放的文件夹\n",
    "#pic_sel_dir='./pic_select/'\n",
    "pic_sel_dir='./pic_select_val/'\n",
    "if not os.path.exists(pic_sel_dir):  \n",
    "        os.makedirs(pic_sel_dir)\n",
    "        \n",
    "#fp=open(fileName,'r')\n",
    "with open(fileName,'r') as fp:\n",
    "    #lines=fp.readlines()\n",
    "    i=0\n",
    "    for line in fp:\n",
    "        \n",
    "        #fp1 = open('./test2.txt','a')\n",
    "        #line=fp.readline()\n",
    "        line=line.rstrip()#去除后面的换行符\n",
    "        xml_dir=fileName2+line+'.xml'# 图片的标签文件的路径\n",
    "        #print(xml_dir)\n",
    "        \n",
    "        #将图片复制到新文件夹\n",
    "        oldname='./JPEGImages/'+line+'.JPEG'#需要拷贝的文件的路径和文件名\n",
    "        newname=pic_sel_dir+str(i)+'.jpg'#新路径＋新文件名\n",
    "        shutil.copyfile(oldname,newname)#复制图片\n",
    "        \n",
    "        tree = ET.ElementTree(file=xml_dir)#打开xml_dir\n",
    "        p_label=tree.getroot()#获取根目录\n",
    "        #print(p_label)#显示根目录\n",
    "        #for _i in range(4):\n",
    "            #print(p_label[5][4][_i].text)#打印bbox\n",
    "        #打开.lst 文件　以下为转换的规律\n",
    "        with open('./dataset_val.lst', 'a') as f:\n",
    "            width=(float)(p_label[3][0].text)\n",
    "            height=(float)(p_label[3][1].text)\n",
    "            x_min=(float)(p_label[5][4][0].text)/width\n",
    "            y_min=(float)(p_label[5][4][1].text)/height\n",
    "            x_max=(float)(p_label[5][4][2].text)/width\n",
    "            y_max=(float)(p_label[5][4][3].text)/height\n",
    "            f.write(  \n",
    "            str(i) + '\\t' +  \n",
    "            # idx  \n",
    "            str(4) + '\\t' + str(5) + '\\t' +  \n",
    "            # width of header and width of each object.  \n",
    "            str(width) + '\\t' + str(height) + '\\t' +  \n",
    "            # (width, height)  \n",
    "            str(0) + '\\t' +  \n",
    "            # class  \n",
    "            str(x_min) + '\\t' + str(y_min) + '\\t' + str(x_max) + '\\t' +str(y_max) + '\\t' +  \n",
    "            # xmin, ymin, xmax, ymax  \n",
    "           str(i) + '.jpg\\n'\n",
    "            )\n",
    "        i=i+1#行标号\n",
    "        #fp1.write(line)\n",
    "        #fp1.close()\n",
    "        #if(line=='n02802426_100\\n'):\n",
    "            #print('n02802426_100')\n",
    "            #fp1 = open('./test2.txt','a')\n",
    "            #fp1.write('n02802426_100\\n')\n",
    "            #fp1.close\n",
    "#fp.close()\n",
    "print(i)"
   ]
  },
  {
   "cell_type": "code",
   "execution_count": null,
   "metadata": {},
   "outputs": [],
   "source": []
  }
 ],
 "metadata": {
  "kernelspec": {
   "display_name": "Python [conda env:mxnet]",
   "language": "python",
   "name": "conda-env-mxnet-py"
  },
  "language_info": {
   "codemirror_mode": {
    "name": "ipython",
    "version": 3
   },
   "file_extension": ".py",
   "mimetype": "text/x-python",
   "name": "python",
   "nbconvert_exporter": "python",
   "pygments_lexer": "ipython3",
   "version": "3.6.5"
  }
 },
 "nbformat": 4,
 "nbformat_minor": 2
}
