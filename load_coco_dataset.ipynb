{
 "cells": [
  {
   "cell_type": "code",
   "execution_count": null,
   "metadata": {},
   "outputs": [],
   "source": [
    "import json  \n",
    "from mxnet import image  \n",
    "from skimage import io  \n",
    "import os  \n",
    "  \n",
    "  \n",
    "  \n",
    "## load COCO annotations  \n",
    "with open('/media/qy/coco_dataset/2017_dataset/annotations/instances_train2017.json', 'r') as f:  \n",
    "    DataSets = json.load(f)  \n",
    "print(DataSets['annotations'][0])  "
   ]
  },
  {
   "cell_type": "code",
   "execution_count": null,
   "metadata": {},
   "outputs": [],
   "source": [
    "for key in DataSets.keys():#说明 DataSets 是一个字典 有5个元素\n",
    "    print(key)"
   ]
  },
  {
   "cell_type": "code",
   "execution_count": null,
   "metadata": {},
   "outputs": [],
   "source": [
    "dic_1={'segmentation': [[239.97, 260.24, 222.04, 270.49, 199.84, 253.41, 213.5, 227.79, 259.62, 200.46, 274.13, 202.17, 277.55, 210.71, 249.37, 253.41, 237.41, 264.51, 242.54, 261.95, 228.87, 271.34]], 'area': 2765.1486500000005, 'iscrowd': 0, 'image_id': 558840, 'bbox': [199.84, 200.46, 77.71, 70.88], 'category_id': 58, 'id': 156}"
   ]
  },
  {
   "cell_type": "code",
   "execution_count": null,
   "metadata": {},
   "outputs": [],
   "source": [
    "print(len(dic_1))"
   ]
  },
  {
   "cell_type": "code",
   "execution_count": null,
   "metadata": {},
   "outputs": [],
   "source": [
    "list_1=[{'segmentation': [[247.71, 354.7, 253.49, 346.99, 276.63, 337.35, 312.29, 333.49, 364.34, 331.57, 354.7, 327.71, 369.16, 325.78, 376.87, 333.49, 383.61, 330.6, 379.76, 321.93, 365.3, 320.0, 356.63, 317.11, 266.02, 331.57, 260.24, 334.46, 260.24, 337.35, 242.89, 338.31, 234.22, 338.31, 234.22, 348.92, 239.04, 353.73, 248.67, 355.66, 252.53, 353.73]], 'area': 1545.4213000000007, 'iscrowd': 0, 'image_id': 200365, 'bbox': [234.22, 317.11, 149.39, 38.55], 'category_id': 58, 'id': 509}, {'segmentation': [[274.58, 405.68, 298.32, 405.68, 302.45, 402.58, 333.42, 404.65, 356.13, 397.42, 386.06, 386.06, 398.45, 367.48, 399.48, 356.13, 392.26, 347.87, 382.97, 350.97, 339.61, 357.16, 283.87, 365.42, 269.42, 367.48, 243.61, 362.32, 239.48, 368.52, 241.55, 374.71, 253.94, 381.94, 267.35, 385.03, 271.48, 394.32, 271.48, 399.48, 272.52, 400.52, 281.81, 404.65]], 'area': 5607.661349999996, 'iscrowd': 0, 'image_id': 200365, 'bbox': [239.48, 347.87, 160.0, 57.81], 'category_id': 58, 'id': 603}]"
   ]
  },
  {
   "cell_type": "code",
   "execution_count": null,
   "metadata": {},
   "outputs": [],
   "source": [
    "print(len(list_1))"
   ]
  },
  {
   "cell_type": "code",
   "execution_count": null,
   "metadata": {},
   "outputs": [],
   "source": [
    "print(len(DataSets))#DataSets 应该是字典"
   ]
  },
  {
   "cell_type": "code",
   "execution_count": null,
   "metadata": {},
   "outputs": [],
   "source": [
    "print(len(DataSets['info']))#6\n",
    "print(len(DataSets['images']))#118287\n",
    "print(len(DataSets['licenses']))#8"
   ]
  },
  {
   "cell_type": "code",
   "execution_count": null,
   "metadata": {},
   "outputs": [],
   "source": [
    "print(DataSets['images'][0])\n",
    "print(len(DataSets['images'][0]))"
   ]
  },
  {
   "cell_type": "code",
   "execution_count": null,
   "metadata": {},
   "outputs": [],
   "source": [
    "print(DataSets['info'])\n",
    "print(len(DataSets['info']))"
   ]
  },
  {
   "cell_type": "code",
   "execution_count": null,
   "metadata": {},
   "outputs": [],
   "source": [
    "print(DataSets['licenses'][0])\n",
    "print(len(DataSets['licenses'][0]))"
   ]
  },
  {
   "cell_type": "code",
   "execution_count": null,
   "metadata": {},
   "outputs": [],
   "source": [
    "print(len(DataSets['annotations']))# 之所以和print(len(DataSets['images']))的结果不一样，我猜是应为一张图片有多个目标导致的"
   ]
  },
  {
   "cell_type": "code",
   "execution_count": null,
   "metadata": {},
   "outputs": [],
   "source": [
    "print(DataSets['annotations'][1:3]) ##DataSets['annotations'] 是列表 元素是字典"
   ]
  },
  {
   "cell_type": "code",
   "execution_count": null,
   "metadata": {},
   "outputs": [],
   "source": [
    "print(len(DataSets['categories']))\n",
    "print(len(DataSets['categories'][0]))\n",
    "print(DataSets['categories'][0])\n",
    "print(DataSets['categories'])"
   ]
  },
  {
   "cell_type": "markdown",
   "metadata": {},
   "source": [
    "## id coco 杯子\n",
    "id:  44   序号: 40 类别: bottle\n",
    "id:  46   序号: 41 类别: wine glass\n",
    "id:  47   序号: 42 类别: cup"
   ]
  },
  {
   "cell_type": "code",
   "execution_count": null,
   "metadata": {},
   "outputs": [],
   "source": [
    "a = '小明456fgdddhhh55adbyjjjjj'\n",
    "m ={}\n",
    "for ch in a :       # 从a字符串里面取值\n",
    "    if ch in m :        # 取出来的值如果在 m 里面\n",
    "        m[ch] +=1      # m字典里面的元素 统计加1\n",
    "    else:\n",
    "        m[ch] =1\n",
    "print(m)\n"
   ]
  },
  {
   "cell_type": "code",
   "execution_count": null,
   "metadata": {},
   "outputs": [],
   "source": [
    "for i in range(len(DataSets['categories'])):\n",
    "    print(\"id: \",DataSets['categories'][i]['id'],\" \",\"序号:\",i+1,\"类别:\",DataSets['categories'][i]['name'])"
   ]
  },
  {
   "cell_type": "code",
   "execution_count": null,
   "metadata": {},
   "outputs": [],
   "source": [
    "for i in range(len(DataSets['categories'])):\n",
    "    #print(\"序号: %s 类别: %s\",(i+1,DataSets['categories'][i]['name']))\n",
    "    print(DataSets['categories'][i]['name'])"
   ]
  },
  {
   "cell_type": "code",
   "execution_count": null,
   "metadata": {},
   "outputs": [],
   "source": [
    "## save class and own dataset .json  \n",
    "jsonName = 'ownset.json'  #关于杯子的json标签\n",
    "directory = '/media/qy/coco_dataset/ownSet/' #将提取的杯子图片保存在移动硬盘的路径里 \n",
    "data = {}  \n",
    "data['DataSet'] = []  \n",
    "with open(jsonName, 'w') as outfile:  \n",
    "    if not os.path.exists(directory):  \n",
    "        os.makedirs(directory)  \n",
    "    for DataSet in DataSets['annotations']:  \n",
    "        box = DataSet['bbox']  \n",
    "        default_name = \"000000000000\"  \n",
    "        img_id = str(DataSet['image_id'])  \n",
    "        img_name = default_name[:len(default_name) - len(img_id)] + str(img_id) + '.jpg'  \n",
    "        coco_name = '/media/qy/coco_dataset/2017_dataset/train2017/' + img_name  \n",
    "        if DataSet['category_id'] == 47:  #cup\n",
    "  \n",
    "            with open(coco_name, 'rb') as f:  \n",
    "                img = image.imdecode(f.read())  \n",
    "                height = img.shape[0]  \n",
    "                width  = img.shape[1]  \n",
    "                box[0] = box[0]/width  #normalize\n",
    "                box[2] = box[2]/width  \n",
    "                box[1] = box[1]/height  \n",
    "                box[3] = box[3]/height  \n",
    "                io.imsave(directory + img_name, img.asnumpy())  \n",
    "                data['DataSet'].append({  \n",
    "                'img_name': img_name,  \n",
    "                'height': height,  \n",
    "                'width': width,  \n",
    "                'bbox': box,  \n",
    "                'class':DataSet['category_id']  \n",
    "                })  \n",
    "    json.dump(data, outfile)  \n",
    "print('save ok')"
   ]
  },
  {
   "cell_type": "code",
   "execution_count": null,
   "metadata": {},
   "outputs": [],
   "source": []
  }
 ],
 "metadata": {
  "kernelspec": {
   "display_name": "Python [conda env:gluon]",
   "language": "python",
   "name": "conda-env-gluon-py"
  },
  "language_info": {
   "codemirror_mode": {
    "name": "ipython",
    "version": 3
   },
   "file_extension": ".py",
   "mimetype": "text/x-python",
   "name": "python",
   "nbconvert_exporter": "python",
   "pygments_lexer": "ipython3",
   "version": "3.6.6"
  }
 },
 "nbformat": 4,
 "nbformat_minor": 2
}
