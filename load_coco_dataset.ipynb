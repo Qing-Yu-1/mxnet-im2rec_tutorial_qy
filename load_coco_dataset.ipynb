{
 "cells": [
  {
   "cell_type": "code",
   "execution_count": 2,
   "metadata": {},
   "outputs": [
    {
     "name": "stdout",
     "output_type": "stream",
     "text": [
      "{'segmentation': [[239.97, 260.24, 222.04, 270.49, 199.84, 253.41, 213.5, 227.79, 259.62, 200.46, 274.13, 202.17, 277.55, 210.71, 249.37, 253.41, 237.41, 264.51, 242.54, 261.95, 228.87, 271.34]], 'area': 2765.1486500000005, 'iscrowd': 0, 'image_id': 558840, 'bbox': [199.84, 200.46, 77.71, 70.88], 'category_id': 58, 'id': 156}\n"
     ]
    }
   ],
   "source": [
    "import json  \n",
    "\n",
    "with open('annotations/instances_train2017.json', 'r') as f:  \n",
    "    DataSets = json.load(f)  \n",
    "print(DataSets['annotations'][0])"
   ]
  },
  {
   "cell_type": "code",
   "execution_count": 1,
   "metadata": {},
   "outputs": [
    {
     "name": "stdout",
     "output_type": "stream",
     "text": [
      "{'segmentation': [[239.97, 260.24, 222.04, 270.49, 199.84, 253.41, 213.5, 227.79, 259.62, 200.46, 274.13, 202.17, 277.55, 210.71, 249.37, 253.41, 237.41, 264.51, 242.54, 261.95, 228.87, 271.34]], 'area': 2765.1486500000005, 'iscrowd': 0, 'image_id': 558840, 'bbox': [199.84, 200.46, 77.71, 70.88], 'category_id': 58, 'id': 156}\n"
     ]
    }
   ],
   "source": [
    "import json  \n",
    "from mxnet import image  \n",
    "from skimage import io  \n",
    "import os  \n",
    "  \n",
    "  \n",
    "  \n",
    "## load COCO annotations  \n",
    "with open('annotations/instances_train2017.json', 'r') as f:  \n",
    "    DataSets = json.load(f)  \n",
    "print(DataSets['annotations'][0])  "
   ]
  },
  {
   "cell_type": "code",
   "execution_count": 30,
   "metadata": {},
   "outputs": [
    {
     "name": "stdout",
     "output_type": "stream",
     "text": [
      "info\n",
      "licenses\n",
      "images\n",
      "annotations\n",
      "categories\n"
     ]
    }
   ],
   "source": [
    "for key in DataSets.keys():#说明 DataSets 是一个字典 有5个元素\n",
    "    print(key)"
   ]
  },
  {
   "cell_type": "code",
   "execution_count": 15,
   "metadata": {},
   "outputs": [],
   "source": [
    "dic_1={'segmentation': [[239.97, 260.24, 222.04, 270.49, 199.84, 253.41, 213.5, 227.79, 259.62, 200.46, 274.13, 202.17, 277.55, 210.71, 249.37, 253.41, 237.41, 264.51, 242.54, 261.95, 228.87, 271.34]], 'area': 2765.1486500000005, 'iscrowd': 0, 'image_id': 558840, 'bbox': [199.84, 200.46, 77.71, 70.88], 'category_id': 58, 'id': 156}"
   ]
  },
  {
   "cell_type": "code",
   "execution_count": 16,
   "metadata": {},
   "outputs": [
    {
     "name": "stdout",
     "output_type": "stream",
     "text": [
      "7\n"
     ]
    }
   ],
   "source": [
    "print(len(dic_1))"
   ]
  },
  {
   "cell_type": "code",
   "execution_count": 17,
   "metadata": {},
   "outputs": [],
   "source": [
    "list_1=[{'segmentation': [[247.71, 354.7, 253.49, 346.99, 276.63, 337.35, 312.29, 333.49, 364.34, 331.57, 354.7, 327.71, 369.16, 325.78, 376.87, 333.49, 383.61, 330.6, 379.76, 321.93, 365.3, 320.0, 356.63, 317.11, 266.02, 331.57, 260.24, 334.46, 260.24, 337.35, 242.89, 338.31, 234.22, 338.31, 234.22, 348.92, 239.04, 353.73, 248.67, 355.66, 252.53, 353.73]], 'area': 1545.4213000000007, 'iscrowd': 0, 'image_id': 200365, 'bbox': [234.22, 317.11, 149.39, 38.55], 'category_id': 58, 'id': 509}, {'segmentation': [[274.58, 405.68, 298.32, 405.68, 302.45, 402.58, 333.42, 404.65, 356.13, 397.42, 386.06, 386.06, 398.45, 367.48, 399.48, 356.13, 392.26, 347.87, 382.97, 350.97, 339.61, 357.16, 283.87, 365.42, 269.42, 367.48, 243.61, 362.32, 239.48, 368.52, 241.55, 374.71, 253.94, 381.94, 267.35, 385.03, 271.48, 394.32, 271.48, 399.48, 272.52, 400.52, 281.81, 404.65]], 'area': 5607.661349999996, 'iscrowd': 0, 'image_id': 200365, 'bbox': [239.48, 347.87, 160.0, 57.81], 'category_id': 58, 'id': 603}]"
   ]
  },
  {
   "cell_type": "code",
   "execution_count": 19,
   "metadata": {},
   "outputs": [
    {
     "name": "stdout",
     "output_type": "stream",
     "text": [
      "2\n"
     ]
    }
   ],
   "source": [
    "print(len(list_1))"
   ]
  },
  {
   "cell_type": "code",
   "execution_count": 7,
   "metadata": {},
   "outputs": [
    {
     "name": "stdout",
     "output_type": "stream",
     "text": [
      "5\n"
     ]
    }
   ],
   "source": [
    "print(len(DataSets))#DataSets 应该是字典"
   ]
  },
  {
   "cell_type": "code",
   "execution_count": 14,
   "metadata": {},
   "outputs": [
    {
     "name": "stdout",
     "output_type": "stream",
     "text": [
      "6\n",
      "118287\n",
      "8\n"
     ]
    }
   ],
   "source": [
    "print(len(DataSets['info']))#6\n",
    "print(len(DataSets['images']))#118287\n",
    "print(len(DataSets['licenses']))#8"
   ]
  },
  {
   "cell_type": "code",
   "execution_count": 22,
   "metadata": {},
   "outputs": [
    {
     "name": "stdout",
     "output_type": "stream",
     "text": [
      "{'license': 3, 'file_name': '000000391895.jpg', 'coco_url': 'http://images.cocodataset.org/train2017/000000391895.jpg', 'height': 360, 'width': 640, 'date_captured': '2013-11-14 11:18:45', 'flickr_url': 'http://farm9.staticflickr.com/8186/8119368305_4e622c8349_z.jpg', 'id': 391895}\n",
      "8\n"
     ]
    }
   ],
   "source": [
    "print(DataSets['images'][0])\n",
    "print(len(DataSets['images'][0]))"
   ]
  },
  {
   "cell_type": "code",
   "execution_count": 25,
   "metadata": {},
   "outputs": [
    {
     "name": "stdout",
     "output_type": "stream",
     "text": [
      "{'description': 'COCO 2017 Dataset', 'url': 'http://cocodataset.org', 'version': '1.0', 'year': 2017, 'contributor': 'COCO Consortium', 'date_created': '2017/09/01'}\n",
      "6\n"
     ]
    }
   ],
   "source": [
    "print(DataSets['info'])\n",
    "print(len(DataSets['info']))"
   ]
  },
  {
   "cell_type": "code",
   "execution_count": 28,
   "metadata": {},
   "outputs": [
    {
     "name": "stdout",
     "output_type": "stream",
     "text": [
      "{'url': 'http://creativecommons.org/licenses/by-nc-sa/2.0/', 'id': 1, 'name': 'Attribution-NonCommercial-ShareAlike License'}\n",
      "3\n"
     ]
    }
   ],
   "source": [
    "print(DataSets['licenses'][0])\n",
    "print(len(DataSets['licenses'][0]))"
   ]
  },
  {
   "cell_type": "code",
   "execution_count": 8,
   "metadata": {},
   "outputs": [
    {
     "name": "stdout",
     "output_type": "stream",
     "text": [
      "860001\n"
     ]
    }
   ],
   "source": [
    "print(len(DataSets['annotations']))# 之所以和print(len(DataSets['images']))的结果不一样，我猜是应为一张图片有多个目标导致的"
   ]
  },
  {
   "cell_type": "code",
   "execution_count": 9,
   "metadata": {},
   "outputs": [
    {
     "name": "stdout",
     "output_type": "stream",
     "text": [
      "[{'segmentation': [[247.71, 354.7, 253.49, 346.99, 276.63, 337.35, 312.29, 333.49, 364.34, 331.57, 354.7, 327.71, 369.16, 325.78, 376.87, 333.49, 383.61, 330.6, 379.76, 321.93, 365.3, 320.0, 356.63, 317.11, 266.02, 331.57, 260.24, 334.46, 260.24, 337.35, 242.89, 338.31, 234.22, 338.31, 234.22, 348.92, 239.04, 353.73, 248.67, 355.66, 252.53, 353.73]], 'area': 1545.4213000000007, 'iscrowd': 0, 'image_id': 200365, 'bbox': [234.22, 317.11, 149.39, 38.55], 'category_id': 58, 'id': 509}, {'segmentation': [[274.58, 405.68, 298.32, 405.68, 302.45, 402.58, 333.42, 404.65, 356.13, 397.42, 386.06, 386.06, 398.45, 367.48, 399.48, 356.13, 392.26, 347.87, 382.97, 350.97, 339.61, 357.16, 283.87, 365.42, 269.42, 367.48, 243.61, 362.32, 239.48, 368.52, 241.55, 374.71, 253.94, 381.94, 267.35, 385.03, 271.48, 394.32, 271.48, 399.48, 272.52, 400.52, 281.81, 404.65]], 'area': 5607.661349999996, 'iscrowd': 0, 'image_id': 200365, 'bbox': [239.48, 347.87, 160.0, 57.81], 'category_id': 58, 'id': 603}]\n"
     ]
    }
   ],
   "source": [
    "print(DataSets['annotations'][1:3]) ##DataSets['annotations'] 是列表 元素是字典"
   ]
  },
  {
   "cell_type": "code",
   "execution_count": 34,
   "metadata": {},
   "outputs": [
    {
     "name": "stdout",
     "output_type": "stream",
     "text": [
      "80\n",
      "3\n",
      "{'supercategory': 'person', 'id': 1, 'name': 'person'}\n",
      "[{'supercategory': 'person', 'id': 1, 'name': 'person'}, {'supercategory': 'vehicle', 'id': 2, 'name': 'bicycle'}, {'supercategory': 'vehicle', 'id': 3, 'name': 'car'}, {'supercategory': 'vehicle', 'id': 4, 'name': 'motorcycle'}, {'supercategory': 'vehicle', 'id': 5, 'name': 'airplane'}, {'supercategory': 'vehicle', 'id': 6, 'name': 'bus'}, {'supercategory': 'vehicle', 'id': 7, 'name': 'train'}, {'supercategory': 'vehicle', 'id': 8, 'name': 'truck'}, {'supercategory': 'vehicle', 'id': 9, 'name': 'boat'}, {'supercategory': 'outdoor', 'id': 10, 'name': 'traffic light'}, {'supercategory': 'outdoor', 'id': 11, 'name': 'fire hydrant'}, {'supercategory': 'outdoor', 'id': 13, 'name': 'stop sign'}, {'supercategory': 'outdoor', 'id': 14, 'name': 'parking meter'}, {'supercategory': 'outdoor', 'id': 15, 'name': 'bench'}, {'supercategory': 'animal', 'id': 16, 'name': 'bird'}, {'supercategory': 'animal', 'id': 17, 'name': 'cat'}, {'supercategory': 'animal', 'id': 18, 'name': 'dog'}, {'supercategory': 'animal', 'id': 19, 'name': 'horse'}, {'supercategory': 'animal', 'id': 20, 'name': 'sheep'}, {'supercategory': 'animal', 'id': 21, 'name': 'cow'}, {'supercategory': 'animal', 'id': 22, 'name': 'elephant'}, {'supercategory': 'animal', 'id': 23, 'name': 'bear'}, {'supercategory': 'animal', 'id': 24, 'name': 'zebra'}, {'supercategory': 'animal', 'id': 25, 'name': 'giraffe'}, {'supercategory': 'accessory', 'id': 27, 'name': 'backpack'}, {'supercategory': 'accessory', 'id': 28, 'name': 'umbrella'}, {'supercategory': 'accessory', 'id': 31, 'name': 'handbag'}, {'supercategory': 'accessory', 'id': 32, 'name': 'tie'}, {'supercategory': 'accessory', 'id': 33, 'name': 'suitcase'}, {'supercategory': 'sports', 'id': 34, 'name': 'frisbee'}, {'supercategory': 'sports', 'id': 35, 'name': 'skis'}, {'supercategory': 'sports', 'id': 36, 'name': 'snowboard'}, {'supercategory': 'sports', 'id': 37, 'name': 'sports ball'}, {'supercategory': 'sports', 'id': 38, 'name': 'kite'}, {'supercategory': 'sports', 'id': 39, 'name': 'baseball bat'}, {'supercategory': 'sports', 'id': 40, 'name': 'baseball glove'}, {'supercategory': 'sports', 'id': 41, 'name': 'skateboard'}, {'supercategory': 'sports', 'id': 42, 'name': 'surfboard'}, {'supercategory': 'sports', 'id': 43, 'name': 'tennis racket'}, {'supercategory': 'kitchen', 'id': 44, 'name': 'bottle'}, {'supercategory': 'kitchen', 'id': 46, 'name': 'wine glass'}, {'supercategory': 'kitchen', 'id': 47, 'name': 'cup'}, {'supercategory': 'kitchen', 'id': 48, 'name': 'fork'}, {'supercategory': 'kitchen', 'id': 49, 'name': 'knife'}, {'supercategory': 'kitchen', 'id': 50, 'name': 'spoon'}, {'supercategory': 'kitchen', 'id': 51, 'name': 'bowl'}, {'supercategory': 'food', 'id': 52, 'name': 'banana'}, {'supercategory': 'food', 'id': 53, 'name': 'apple'}, {'supercategory': 'food', 'id': 54, 'name': 'sandwich'}, {'supercategory': 'food', 'id': 55, 'name': 'orange'}, {'supercategory': 'food', 'id': 56, 'name': 'broccoli'}, {'supercategory': 'food', 'id': 57, 'name': 'carrot'}, {'supercategory': 'food', 'id': 58, 'name': 'hot dog'}, {'supercategory': 'food', 'id': 59, 'name': 'pizza'}, {'supercategory': 'food', 'id': 60, 'name': 'donut'}, {'supercategory': 'food', 'id': 61, 'name': 'cake'}, {'supercategory': 'furniture', 'id': 62, 'name': 'chair'}, {'supercategory': 'furniture', 'id': 63, 'name': 'couch'}, {'supercategory': 'furniture', 'id': 64, 'name': 'potted plant'}, {'supercategory': 'furniture', 'id': 65, 'name': 'bed'}, {'supercategory': 'furniture', 'id': 67, 'name': 'dining table'}, {'supercategory': 'furniture', 'id': 70, 'name': 'toilet'}, {'supercategory': 'electronic', 'id': 72, 'name': 'tv'}, {'supercategory': 'electronic', 'id': 73, 'name': 'laptop'}, {'supercategory': 'electronic', 'id': 74, 'name': 'mouse'}, {'supercategory': 'electronic', 'id': 75, 'name': 'remote'}, {'supercategory': 'electronic', 'id': 76, 'name': 'keyboard'}, {'supercategory': 'electronic', 'id': 77, 'name': 'cell phone'}, {'supercategory': 'appliance', 'id': 78, 'name': 'microwave'}, {'supercategory': 'appliance', 'id': 79, 'name': 'oven'}, {'supercategory': 'appliance', 'id': 80, 'name': 'toaster'}, {'supercategory': 'appliance', 'id': 81, 'name': 'sink'}, {'supercategory': 'appliance', 'id': 82, 'name': 'refrigerator'}, {'supercategory': 'indoor', 'id': 84, 'name': 'book'}, {'supercategory': 'indoor', 'id': 85, 'name': 'clock'}, {'supercategory': 'indoor', 'id': 86, 'name': 'vase'}, {'supercategory': 'indoor', 'id': 87, 'name': 'scissors'}, {'supercategory': 'indoor', 'id': 88, 'name': 'teddy bear'}, {'supercategory': 'indoor', 'id': 89, 'name': 'hair drier'}, {'supercategory': 'indoor', 'id': 90, 'name': 'toothbrush'}]\n"
     ]
    }
   ],
   "source": [
    "print(len(DataSets['categories']))\n",
    "print(len(DataSets['categories'][0]))\n",
    "print(DataSets['categories'][0])\n",
    "print(DataSets['categories'])"
   ]
  },
  {
   "cell_type": "markdown",
   "metadata": {},
   "source": [
    "## id coco 杯子\n",
    "id:  44   序号: 40 类别: bottle\n",
    "id:  46   序号: 41 类别: wine glass\n",
    "id:  47   序号: 42 类别: cup"
   ]
  },
  {
   "cell_type": "code",
   "execution_count": 51,
   "metadata": {},
   "outputs": [
    {
     "name": "stdout",
     "output_type": "stream",
     "text": [
      "{'小': 1, '明': 1, '4': 1, '5': 3, '6': 1, 'f': 1, 'g': 1, 'd': 4, 'h': 3, 'a': 1, 'b': 1, 'y': 1, 'j': 5}\n"
     ]
    }
   ],
   "source": [
    "a = '小明456fgdddhhh55adbyjjjjj'\n",
    "m ={}\n",
    "for ch in a :       # 从a字符串里面取值\n",
    "    if ch in m :        # 取出来的值如果在 m 里面\n",
    "        m[ch] +=1      # m字典里面的元素 统计加1\n",
    "    else:\n",
    "        m[ch] =1\n",
    "print(m)\n"
   ]
  },
  {
   "cell_type": "code",
   "execution_count": 50,
   "metadata": {},
   "outputs": [
    {
     "name": "stdout",
     "output_type": "stream",
     "text": [
      "id:  1   序号: 1 类别: person\n",
      "id:  2   序号: 2 类别: bicycle\n",
      "id:  3   序号: 3 类别: car\n",
      "id:  4   序号: 4 类别: motorcycle\n",
      "id:  5   序号: 5 类别: airplane\n",
      "id:  6   序号: 6 类别: bus\n",
      "id:  7   序号: 7 类别: train\n",
      "id:  8   序号: 8 类别: truck\n",
      "id:  9   序号: 9 类别: boat\n",
      "id:  10   序号: 10 类别: traffic light\n",
      "id:  11   序号: 11 类别: fire hydrant\n",
      "id:  13   序号: 12 类别: stop sign\n",
      "id:  14   序号: 13 类别: parking meter\n",
      "id:  15   序号: 14 类别: bench\n",
      "id:  16   序号: 15 类别: bird\n",
      "id:  17   序号: 16 类别: cat\n",
      "id:  18   序号: 17 类别: dog\n",
      "id:  19   序号: 18 类别: horse\n",
      "id:  20   序号: 19 类别: sheep\n",
      "id:  21   序号: 20 类别: cow\n",
      "id:  22   序号: 21 类别: elephant\n",
      "id:  23   序号: 22 类别: bear\n",
      "id:  24   序号: 23 类别: zebra\n",
      "id:  25   序号: 24 类别: giraffe\n",
      "id:  27   序号: 25 类别: backpack\n",
      "id:  28   序号: 26 类别: umbrella\n",
      "id:  31   序号: 27 类别: handbag\n",
      "id:  32   序号: 28 类别: tie\n",
      "id:  33   序号: 29 类别: suitcase\n",
      "id:  34   序号: 30 类别: frisbee\n",
      "id:  35   序号: 31 类别: skis\n",
      "id:  36   序号: 32 类别: snowboard\n",
      "id:  37   序号: 33 类别: sports ball\n",
      "id:  38   序号: 34 类别: kite\n",
      "id:  39   序号: 35 类别: baseball bat\n",
      "id:  40   序号: 36 类别: baseball glove\n",
      "id:  41   序号: 37 类别: skateboard\n",
      "id:  42   序号: 38 类别: surfboard\n",
      "id:  43   序号: 39 类别: tennis racket\n",
      "id:  44   序号: 40 类别: bottle\n",
      "id:  46   序号: 41 类别: wine glass\n",
      "id:  47   序号: 42 类别: cup\n",
      "id:  48   序号: 43 类别: fork\n",
      "id:  49   序号: 44 类别: knife\n",
      "id:  50   序号: 45 类别: spoon\n",
      "id:  51   序号: 46 类别: bowl\n",
      "id:  52   序号: 47 类别: banana\n",
      "id:  53   序号: 48 类别: apple\n",
      "id:  54   序号: 49 类别: sandwich\n",
      "id:  55   序号: 50 类别: orange\n",
      "id:  56   序号: 51 类别: broccoli\n",
      "id:  57   序号: 52 类别: carrot\n",
      "id:  58   序号: 53 类别: hot dog\n",
      "id:  59   序号: 54 类别: pizza\n",
      "id:  60   序号: 55 类别: donut\n",
      "id:  61   序号: 56 类别: cake\n",
      "id:  62   序号: 57 类别: chair\n",
      "id:  63   序号: 58 类别: couch\n",
      "id:  64   序号: 59 类别: potted plant\n",
      "id:  65   序号: 60 类别: bed\n",
      "id:  67   序号: 61 类别: dining table\n",
      "id:  70   序号: 62 类别: toilet\n",
      "id:  72   序号: 63 类别: tv\n",
      "id:  73   序号: 64 类别: laptop\n",
      "id:  74   序号: 65 类别: mouse\n",
      "id:  75   序号: 66 类别: remote\n",
      "id:  76   序号: 67 类别: keyboard\n",
      "id:  77   序号: 68 类别: cell phone\n",
      "id:  78   序号: 69 类别: microwave\n",
      "id:  79   序号: 70 类别: oven\n",
      "id:  80   序号: 71 类别: toaster\n",
      "id:  81   序号: 72 类别: sink\n",
      "id:  82   序号: 73 类别: refrigerator\n",
      "id:  84   序号: 74 类别: book\n",
      "id:  85   序号: 75 类别: clock\n",
      "id:  86   序号: 76 类别: vase\n",
      "id:  87   序号: 77 类别: scissors\n",
      "id:  88   序号: 78 类别: teddy bear\n",
      "id:  89   序号: 79 类别: hair drier\n",
      "id:  90   序号: 80 类别: toothbrush\n"
     ]
    }
   ],
   "source": [
    "for i in range(len(DataSets['categories'])):\n",
    "    print(\"id: \",DataSets['categories'][i]['id'],\" \",\"序号:\",i+1,\"类别:\",DataSets['categories'][i]['name'])"
   ]
  },
  {
   "cell_type": "code",
   "execution_count": 44,
   "metadata": {},
   "outputs": [
    {
     "name": "stdout",
     "output_type": "stream",
     "text": [
      "person\n",
      "bicycle\n",
      "car\n",
      "motorcycle\n",
      "airplane\n",
      "bus\n",
      "train\n",
      "truck\n",
      "boat\n",
      "traffic light\n",
      "fire hydrant\n",
      "stop sign\n",
      "parking meter\n",
      "bench\n",
      "bird\n",
      "cat\n",
      "dog\n",
      "horse\n",
      "sheep\n",
      "cow\n",
      "elephant\n",
      "bear\n",
      "zebra\n",
      "giraffe\n",
      "backpack\n",
      "umbrella\n",
      "handbag\n",
      "tie\n",
      "suitcase\n",
      "frisbee\n",
      "skis\n",
      "snowboard\n",
      "sports ball\n",
      "kite\n",
      "baseball bat\n",
      "baseball glove\n",
      "skateboard\n",
      "surfboard\n",
      "tennis racket\n",
      "bottle\n",
      "wine glass\n",
      "cup\n",
      "fork\n",
      "knife\n",
      "spoon\n",
      "bowl\n",
      "banana\n",
      "apple\n",
      "sandwich\n",
      "orange\n",
      "broccoli\n",
      "carrot\n",
      "hot dog\n",
      "pizza\n",
      "donut\n",
      "cake\n",
      "chair\n",
      "couch\n",
      "potted plant\n",
      "bed\n",
      "dining table\n",
      "toilet\n",
      "tv\n",
      "laptop\n",
      "mouse\n",
      "remote\n",
      "keyboard\n",
      "cell phone\n",
      "microwave\n",
      "oven\n",
      "toaster\n",
      "sink\n",
      "refrigerator\n",
      "book\n",
      "clock\n",
      "vase\n",
      "scissors\n",
      "teddy bear\n",
      "hair drier\n",
      "toothbrush\n"
     ]
    }
   ],
   "source": [
    "for i in range(len(DataSets['categories'])):\n",
    "    #print(\"序号: %s 类别: %s\",(i+1,DataSets['categories'][i]['name']))\n",
    "    print(DataSets['categories'][i]['name'])"
   ]
  },
  {
   "cell_type": "code",
   "execution_count": 3,
   "metadata": {},
   "outputs": [
    {
     "ename": "IndentationError",
     "evalue": "unindent does not match any outer indentation level (<ipython-input-3-24f8f3dc8b56>, line 12)",
     "output_type": "error",
     "traceback": [
      "\u001b[0;36m  File \u001b[0;32m\"<ipython-input-3-24f8f3dc8b56>\"\u001b[0;36m, line \u001b[0;32m12\u001b[0m\n\u001b[0;31m    img_id = str(DataSet['image_id'])\u001b[0m\n\u001b[0m                                       ^\u001b[0m\n\u001b[0;31mIndentationError\u001b[0m\u001b[0;31m:\u001b[0m unindent does not match any outer indentation level\n"
     ]
    }
   ],
   "source": [
    "## save class and own dataset .json  \n",
    "jsonName = 'ownset.json'  \n",
    "directory = 'ownSet/'  \n",
    "data = {}  \n",
    "data['DataSet'] = []  \n",
    "with open(jsonName, 'w') as outfile:  \n",
    "    if not os.path.exists(directory):  \n",
    "        os.makedirs(directory)  \n",
    "    for DataSet in DataSets['annotations']:  \n",
    "        box = DataSet['bbox']  \n",
    "        default_name = \"000000000000\"  \n",
    "        img_id = str(DataSet['image_id'])  \n",
    "        img_name = default_name[:len(default_name) - len(img_id)] + str(img_id) + '.jpg'  \n",
    "        coco_name = 'train2017/' + img_name  \n",
    "        if DataSet['category_id'] == 16:  #bird\n",
    "  \n",
    "            with open(coco_name, 'rb') as f:  \n",
    "                img = image.imdecode(f.read())  \n",
    "                height = img.shape[0]  \n",
    "                width  = img.shape[1]  \n",
    "                box[0] = box[0]/width  #normalize\n",
    "                box[2] = box[2]/width  \n",
    "                box[1] = box[1]/height  \n",
    "                box[3] = box[3]/height  \n",
    "            io.imsave(directory + img_name, img.asnumpy())  \n",
    "            data['DataSet'].append({  \n",
    "                'img_name': img_name,  \n",
    "                'height': height,  \n",
    "                'width': width,  \n",
    "                'bbox': box,  \n",
    "                'class':DataSet['category_id']  \n",
    "            })  \n",
    "    json.dump(data, outfile)  \n",
    "print('save ok')"
   ]
  },
  {
   "cell_type": "code",
   "execution_count": null,
   "metadata": {},
   "outputs": [],
   "source": []
  }
 ],
 "metadata": {
  "kernelspec": {
   "display_name": "Python [conda env:mxnet]",
   "language": "python",
   "name": "conda-env-mxnet-py"
  },
  "language_info": {
   "codemirror_mode": {
    "name": "ipython",
    "version": 3
   },
   "file_extension": ".py",
   "mimetype": "text/x-python",
   "name": "python",
   "nbconvert_exporter": "python",
   "pygments_lexer": "ipython3",
   "version": "3.6.5"
  }
 },
 "nbformat": 4,
 "nbformat_minor": 2
}
